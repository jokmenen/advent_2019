{
 "cells": [
  {
   "cell_type": "code",
   "execution_count": 15,
   "metadata": {},
   "outputs": [],
   "source": [
    "with open('input.txt') as fp:\n",
    "    data = fp.readlines()\n",
    "\n",
    "data = [int(x.rstrip()) for x in data]"
   ]
  },
  {
   "cell_type": "code",
   "execution_count": 16,
   "metadata": {},
   "outputs": [
    {
     "data": {
      "text/plain": [
       "[79620, 58052, 119910, 138477, 139102]"
      ]
     },
     "execution_count": 16,
     "metadata": {},
     "output_type": "execute_result"
    }
   ],
   "source": [
    "data[:5]"
   ]
  },
  {
   "cell_type": "code",
   "execution_count": 57,
   "metadata": {},
   "outputs": [
    {
     "name": "stdout",
     "output_type": "stream",
     "text": [
      "5115267\n"
     ]
    },
    {
     "data": {
      "text/plain": [
       "5115267"
      ]
     },
     "execution_count": 57,
     "metadata": {},
     "output_type": "execute_result"
    }
   ],
   "source": [
    "def calcfuel(mass):\n",
    "    fuel = int(mass//3)-2\n",
    "    return fuel\n",
    "\n",
    "def calcextrafuel(fuel):\n",
    "    new_fuel = calcfuel(fuel)\n",
    "    \n",
    "    if new_fuel>0:\n",
    "        total_fuel = (fuel+calcextrafuel(new_fuel))\n",
    "        return(total_fuel)\n",
    "    else:\n",
    "        return fuel\n",
    "\n",
    "totalFuel = sum([calcextrafuel(calcfuel(mass)) for mass in data])\n",
    "# totalFuel_extra = calcextrafuel(totalFuel)\n",
    "print(totalFuel)\n",
    "totalFuel"
   ]
  },
  {
   "cell_type": "code",
   "execution_count": null,
   "metadata": {},
   "outputs": [],
   "source": [
    "import copy\n",
    "\n",
    "data_echt ={\"flats\":[[3,3],[8,3],[10,6],[15,5],[16,7],[17,9],[18,8],[21,9],[23,8],[24,10],[26,3],[27,6],[28,3],[29,5],[31,6],[33,9],[38,7],[41,8],[43,9],[46,10],[47,6],[50,7],[52,8],[56,9],[57,5],[59,3],[63,4]],\n",
    "\"sprongen\":[[0,0],[1,3],[4,0],[0,2],[0,2],[0,0],[2,1],[1,0],[0,2],[1,0],[0,3],[0,0],[0,2],[1,1],[1,3],[4,0],[2,1],[1,1],[2,1],[0,0],[2,1],[1,1],[3,1],[0,0],[1,0],[3,1]]}\n",
    "data_test = {\n",
    "\"flats\": [[1,4],[0,0],[3,8],[4,3],[5,7],[7,4],[10,3]],\n",
    "\"sprongen\": [[2,0],[0,4],[1,0],[0,0]]\n",
    "}\n",
    "\n",
    "data=data_echt\n",
    "\n",
    "cur_pos = copy.deepcopy(data['flats'][0])\n",
    "aantal_stappen = 1\n",
    "for sprong in data['sprongen']:\n",
    "    print(f'sprong {sprong}, pos {cur_pos}')\n",
    "    cur_pos[0] += 1+sprong[0]\n",
    "    cur_pos[1] += sprong[1]\n",
    "    \n",
    "    geland = False\n",
    "    for flat in data['flats']:\n",
    "#         print('flat',flat)\n",
    "        print('bla',cur_pos, flat,sep=' ')\n",
    "        if cur_pos[0]!=flat[0]:\n",
    "            continue\n",
    "            print()\n",
    "        elif cur_pos[1]>=flat[1]:\n",
    "            cur_pos[1] = flat[1]\n",
    "            print(flat)\n",
    "            geland = True\n",
    "        \n",
    "            break\n",
    "    print('jump made:',cur_pos)\n",
    "    if geland == False:\n",
    "        break\n",
    "    else:\n",
    "        aantal_stappen+=1\n",
    "\n",
    "aantal_stappen"
   ]
  },
  {
   "cell_type": "code",
   "execution_count": null,
   "metadata": {},
   "outputs": [],
   "source": [
    "# daken = copy.deepcopy(data['flats'])\n",
    "daken.sort(reverse = True)\n",
    "\n",
    "def vindMogelijkeDaken(cur_dak, tnt_nodig = 0, path=[]):\n",
    "    #print('vind!',tnt_nodig)\n",
    "    path+=[cur_dak]\n",
    "    if cur_dak == daken[len(daken)-1]:\n",
    "        #print('returning')\n",
    "        return path,tnt_nodig\n",
    "    \n",
    "    #print(cur_dak)\n",
    "    mogelijke_daken = []\n",
    "    for dak in daken:\n",
    "        #print(dak)\n",
    "        if dak[0]>=cur_dak[0]:\n",
    "            continue\n",
    "        nodig_x = cur_dak[0]-dak[0]-1\n",
    "        nodig_y = cur_dak[1]-dak[1]\n",
    "        if nodig_y<0:\n",
    "            nodig_y = 0\n",
    "        nodig = [nodig_x,nodig_y]\n",
    "        if sum(nodig)>4:\n",
    "            continue\n",
    "        mogelijke_daken += [(dak,sum(nodig))]\n",
    "    beste_dak = ([0,0],10000)\n",
    "    #print(mogelijke_daken)\n",
    "    \n",
    "    \n",
    "    \n",
    "    for d in mogelijke_daken:\n",
    "        #print('d:',d)\n",
    "        dak_nodig = vindMogelijkeDaken(d[0],d[1]+tnt_nodig,path)\n",
    "        #print(beste_dak, dak_nodig)\n",
    "        if dak_nodig[1]<beste_dak[1]:\n",
    "            beste_dak = dak_nodig\n",
    "    \n",
    "    return beste_dak \n",
    "\n",
    "vindMogelijkeDaken(daken[0])[1]"
   ]
  }
 ],
 "metadata": {
  "kernelspec": {
   "display_name": "Python 3",
   "language": "python",
   "name": "python3"
  },
  "language_info": {
   "codemirror_mode": {
    "name": "ipython",
    "version": 3
   },
   "file_extension": ".py",
   "mimetype": "text/x-python",
   "name": "python",
   "nbconvert_exporter": "python",
   "pygments_lexer": "ipython3",
   "version": "3.7.3"
  }
 },
 "nbformat": 4,
 "nbformat_minor": 2
}
